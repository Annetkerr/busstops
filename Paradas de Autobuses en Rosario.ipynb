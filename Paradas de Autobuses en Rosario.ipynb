{
 "cells": [
  {
   "cell_type": "markdown",
   "metadata": {},
   "source": [
    "# Paradas de autobuses en Rosario\n",
    "<p>Aplicación basada en mis estudios del curso <a href=#>Python for Data Science</a> de la Universidad de California: San Diego<br />\n",
    "Muestra en un mapa de la ciudad de Rosario las paradas de autobuses, permite escoger una línea de autobuses para ver su recorrido de ida y vuelta en el mapa.</p>"
   ]
  },
  {
   "cell_type": "markdown",
   "metadata": {},
   "source": [
    "## Datasets\n",
    "Se usan los datos suministrados por la municipalidad de Rosario en su plataforma de datos abiertos <a href=https://datos.rosario.gob.ar>RosarioDatos</a>"
   ]
  },
  {
   "cell_type": "code",
   "execution_count": 29,
   "metadata": {},
   "outputs": [],
   "source": [
    "import pandas as pd\n",
    "import numpy as np\n",
    "import folium\n",
    "from folium.features import DivIcon\n",
    "import ipywidgets as widgets\n",
    "from ipywidgets import interact, interactive\n",
    "from IPython.display import HTML"
   ]
  },
  {
   "cell_type": "markdown",
   "metadata": {},
   "source": [
    "### Extracción de los datos relevantes\n",
    "<p>Se carga el fichero csv y se muestran las propiedades. Luego se hace una lista de propiedades para dejar las columnas apropiadas para el trabajo</p>"
   ]
  },
  {
   "cell_type": "code",
   "execution_count": 30,
   "metadata": {},
   "outputs": [],
   "source": [
    "# carga de datos de un csv\n",
    "paradas = pd.read_csv('./data/paradas_tup_json.csv')"
   ]
  },
  {
   "cell_type": "code",
   "execution_count": 31,
   "metadata": {
    "scrolled": true
   },
   "outputs": [
    {
     "name": "stdout",
     "output_type": "stream",
     "text": [
      "<class 'pandas.core.frame.DataFrame'>\n",
      "(10010, 20)\n"
     ]
    },
    {
     "data": {
      "text/plain": [
       "Index(['SE_ROW_ID', 'MSLINK', 'PARADA', 'RAMAL', 'SENTIDO', 'ORDEN',\n",
       "       'ID_PARADA', 'CALLE_UNO', 'CALLE_DOS', 'COD_SMS', 'OCHAVA', 'REFUGIO',\n",
       "       'DISTRITO', 'PUNTO_X', 'PUNTO_Y', 'CAMBIO', 'USUARIO_CA', 'TYPE',\n",
       "       'CHECKSUM', 'GEOJSON'],\n",
       "      dtype='object')"
      ]
     },
     "execution_count": 31,
     "metadata": {},
     "output_type": "execute_result"
    }
   ],
   "source": [
    "# propiedades de los datos\n",
    "print(type(paradas))\n",
    "print(paradas.shape)\n",
    "paradas.columns"
   ]
  },
  {
   "cell_type": "code",
   "execution_count": 32,
   "metadata": {
    "scrolled": true
   },
   "outputs": [
    {
     "data": {
      "text/html": [
       "<div>\n",
       "<style scoped>\n",
       "    .dataframe tbody tr th:only-of-type {\n",
       "        vertical-align: middle;\n",
       "    }\n",
       "\n",
       "    .dataframe tbody tr th {\n",
       "        vertical-align: top;\n",
       "    }\n",
       "\n",
       "    .dataframe thead th {\n",
       "        text-align: right;\n",
       "    }\n",
       "</style>\n",
       "<table border=\"1\" class=\"dataframe\">\n",
       "  <thead>\n",
       "    <tr style=\"text-align: right;\">\n",
       "      <th></th>\n",
       "      <th>SE_ROW_ID</th>\n",
       "      <th>MSLINK</th>\n",
       "      <th>PARADA</th>\n",
       "      <th>RAMAL</th>\n",
       "      <th>SENTIDO</th>\n",
       "      <th>ORDEN</th>\n",
       "      <th>ID_PARADA</th>\n",
       "      <th>CALLE_UNO</th>\n",
       "      <th>CALLE_DOS</th>\n",
       "      <th>COD_SMS</th>\n",
       "      <th>OCHAVA</th>\n",
       "      <th>REFUGIO</th>\n",
       "      <th>DISTRITO</th>\n",
       "      <th>PUNTO_X</th>\n",
       "      <th>PUNTO_Y</th>\n",
       "      <th>CAMBIO</th>\n",
       "      <th>USUARIO_CA</th>\n",
       "      <th>TYPE</th>\n",
       "      <th>CHECKSUM</th>\n",
       "      <th>GEOJSON</th>\n",
       "    </tr>\n",
       "  </thead>\n",
       "  <tbody>\n",
       "    <tr>\n",
       "      <th>0</th>\n",
       "      <td>727</td>\n",
       "      <td>0</td>\n",
       "      <td>3152</td>\n",
       "      <td>45</td>\n",
       "      <td>V</td>\n",
       "      <td>0</td>\n",
       "      <td>3152</td>\n",
       "      <td>1077</td>\n",
       "      <td>1930</td>\n",
       "      <td>9776</td>\n",
       "      <td>NE</td>\n",
       "      <td>P</td>\n",
       "      <td>NOROESTE                                      ...</td>\n",
       "      <td>-60.759785</td>\n",
       "      <td>-32.940745</td>\n",
       "      <td>2014-10-06</td>\n",
       "      <td>4</td>\n",
       "      <td>0</td>\n",
       "      <td>0</td>\n",
       "      <td>{ \"type\": \"Feature\", \"properties\": { \"SE_ROW_I...</td>\n",
       "    </tr>\n",
       "    <tr>\n",
       "      <th>1</th>\n",
       "      <td>748</td>\n",
       "      <td>0</td>\n",
       "      <td>2924</td>\n",
       "      <td>58</td>\n",
       "      <td>V</td>\n",
       "      <td>399</td>\n",
       "      <td>2924</td>\n",
       "      <td>12</td>\n",
       "      <td>1815</td>\n",
       "      <td>4300</td>\n",
       "      <td>N</td>\n",
       "      <td>I</td>\n",
       "      <td>NORTE                                         ...</td>\n",
       "      <td>-60.699092</td>\n",
       "      <td>-32.873835</td>\n",
       "      <td>2010-11-17</td>\n",
       "      <td>2</td>\n",
       "      <td>0</td>\n",
       "      <td>0</td>\n",
       "      <td>{ \"type\": \"Feature\", \"properties\": { \"SE_ROW_I...</td>\n",
       "    </tr>\n",
       "    <tr>\n",
       "      <th>2</th>\n",
       "      <td>859</td>\n",
       "      <td>0</td>\n",
       "      <td>2983</td>\n",
       "      <td>56</td>\n",
       "      <td>I</td>\n",
       "      <td>23</td>\n",
       "      <td>2983</td>\n",
       "      <td>1412</td>\n",
       "      <td>1474</td>\n",
       "      <td>9163</td>\n",
       "      <td>NO</td>\n",
       "      <td>P</td>\n",
       "      <td>NORTE                                         ...</td>\n",
       "      <td>-60.691754</td>\n",
       "      <td>-32.892053</td>\n",
       "      <td>2010-11-19</td>\n",
       "      <td>2</td>\n",
       "      <td>0</td>\n",
       "      <td>0</td>\n",
       "      <td>{ \"type\": \"Feature\", \"properties\": { \"SE_ROW_I...</td>\n",
       "    </tr>\n",
       "  </tbody>\n",
       "</table>\n",
       "</div>"
      ],
      "text/plain": [
       "   SE_ROW_ID  MSLINK  PARADA  RAMAL SENTIDO  ORDEN  ID_PARADA  CALLE_UNO  \\\n",
       "0        727       0    3152     45       V      0       3152       1077   \n",
       "1        748       0    2924     58       V    399       2924         12   \n",
       "2        859       0    2983     56       I     23       2983       1412   \n",
       "\n",
       "   CALLE_DOS  COD_SMS      OCHAVA     REFUGIO  \\\n",
       "0       1930     9776  NE          P            \n",
       "1       1815     4300  N           I            \n",
       "2       1474     9163  NO          P            \n",
       "\n",
       "                                            DISTRITO    PUNTO_X    PUNTO_Y  \\\n",
       "0  NOROESTE                                      ... -60.759785 -32.940745   \n",
       "1  NORTE                                         ... -60.699092 -32.873835   \n",
       "2  NORTE                                         ... -60.691754 -32.892053   \n",
       "\n",
       "       CAMBIO  USUARIO_CA  TYPE  CHECKSUM  \\\n",
       "0  2014-10-06           4     0         0   \n",
       "1  2010-11-17           2     0         0   \n",
       "2  2010-11-19           2     0         0   \n",
       "\n",
       "                                             GEOJSON  \n",
       "0  { \"type\": \"Feature\", \"properties\": { \"SE_ROW_I...  \n",
       "1  { \"type\": \"Feature\", \"properties\": { \"SE_ROW_I...  \n",
       "2  { \"type\": \"Feature\", \"properties\": { \"SE_ROW_I...  "
      ]
     },
     "execution_count": 32,
     "metadata": {},
     "output_type": "execute_result"
    }
   ],
   "source": [
    "# muestra de los datos en el fichero de paradas\n",
    "paradas.head(3)"
   ]
  },
  {
   "cell_type": "code",
   "execution_count": 33,
   "metadata": {},
   "outputs": [
    {
     "data": {
      "text/html": [
       "<div>\n",
       "<style scoped>\n",
       "    .dataframe tbody tr th:only-of-type {\n",
       "        vertical-align: middle;\n",
       "    }\n",
       "\n",
       "    .dataframe tbody tr th {\n",
       "        vertical-align: top;\n",
       "    }\n",
       "\n",
       "    .dataframe thead th {\n",
       "        text-align: right;\n",
       "    }\n",
       "</style>\n",
       "<table border=\"1\" class=\"dataframe\">\n",
       "  <thead>\n",
       "    <tr style=\"text-align: right;\">\n",
       "      <th></th>\n",
       "      <th>ID_PARADA</th>\n",
       "      <th>RAMAL</th>\n",
       "      <th>SENTIDO</th>\n",
       "      <th>LATITUD</th>\n",
       "      <th>LONGITUD</th>\n",
       "    </tr>\n",
       "  </thead>\n",
       "  <tbody>\n",
       "    <tr>\n",
       "      <th>0</th>\n",
       "      <td>3152</td>\n",
       "      <td>45</td>\n",
       "      <td>V</td>\n",
       "      <td>-32.940745</td>\n",
       "      <td>-60.759785</td>\n",
       "    </tr>\n",
       "    <tr>\n",
       "      <th>1</th>\n",
       "      <td>2924</td>\n",
       "      <td>58</td>\n",
       "      <td>V</td>\n",
       "      <td>-32.873835</td>\n",
       "      <td>-60.699092</td>\n",
       "    </tr>\n",
       "    <tr>\n",
       "      <th>2</th>\n",
       "      <td>2983</td>\n",
       "      <td>56</td>\n",
       "      <td>I</td>\n",
       "      <td>-32.892053</td>\n",
       "      <td>-60.691754</td>\n",
       "    </tr>\n",
       "  </tbody>\n",
       "</table>\n",
       "</div>"
      ],
      "text/plain": [
       "   ID_PARADA  RAMAL SENTIDO    LATITUD   LONGITUD\n",
       "0       3152     45       V -32.940745 -60.759785\n",
       "1       2924     58       V -32.873835 -60.699092\n",
       "2       2983     56       I -32.892053 -60.691754"
      ]
     },
     "execution_count": 33,
     "metadata": {},
     "output_type": "execute_result"
    }
   ],
   "source": [
    "# lista de propiedades a usar\n",
    "# se renombra por etiquetas más claras\n",
    "# se reordenan las columnas también por claridad\n",
    "propiedades = ['ID_PARADA', 'RAMAL', 'SENTIDO', 'PUNTO_X', 'PUNTO_Y']\n",
    "paradas_df = paradas[propiedades]\n",
    "paradas_df = paradas_df.rename(index=str, columns={\"PUNTO_X\": \"LONGITUD\", \"PUNTO_Y\": \"LATITUD\"})\n",
    "paradas_df = paradas_df[['ID_PARADA', 'RAMAL', 'SENTIDO', 'LATITUD', 'LONGITUD']]\n",
    "paradas_df.head(3)"
   ]
  },
  {
   "cell_type": "code",
   "execution_count": 34,
   "metadata": {
    "scrolled": false
   },
   "outputs": [
    {
     "name": "stdout",
     "output_type": "stream",
     "text": [
      "<class 'pandas.core.frame.DataFrame'>\n",
      "(136, 15)\n"
     ]
    },
    {
     "data": {
      "text/plain": [
       "Index(['SE_ROW_ID', 'MSLINK_ODB', 'LINEA', 'BANDERA', 'SENTIDO', 'ID_TUP',\n",
       "       'LINEA_BANDERA', 'TIPO', 'FECHA_HORA', 'CHECKSUM', 'OBSERVACIONES',\n",
       "       'HORARIO1', 'HORARIO2', 'ID_RAMAL', 'GEOJSON'],\n",
       "      dtype='object')"
      ]
     },
     "execution_count": 34,
     "metadata": {},
     "output_type": "execute_result"
    }
   ],
   "source": [
    "# se cargan los datos de los recorridos\n",
    "# donde figura cada línea el ramal que tiene asignado\n",
    "recorridos = pd.read_csv('./data/recorridos_tup_json.csv')\n",
    "print(type(recorridos))\n",
    "print(recorridos.shape)\n",
    "recorridos.columns"
   ]
  },
  {
   "cell_type": "code",
   "execution_count": 35,
   "metadata": {},
   "outputs": [
    {
     "data": {
      "text/html": [
       "<div>\n",
       "<style scoped>\n",
       "    .dataframe tbody tr th:only-of-type {\n",
       "        vertical-align: middle;\n",
       "    }\n",
       "\n",
       "    .dataframe tbody tr th {\n",
       "        vertical-align: top;\n",
       "    }\n",
       "\n",
       "    .dataframe thead th {\n",
       "        text-align: right;\n",
       "    }\n",
       "</style>\n",
       "<table border=\"1\" class=\"dataframe\">\n",
       "  <thead>\n",
       "    <tr style=\"text-align: right;\">\n",
       "      <th></th>\n",
       "      <th>ID_PARADA</th>\n",
       "      <th>RAMAL</th>\n",
       "      <th>SENTIDO</th>\n",
       "      <th>LATITUD</th>\n",
       "      <th>LONGITUD</th>\n",
       "      <th>LINEA_BANDERA</th>\n",
       "    </tr>\n",
       "  </thead>\n",
       "  <tbody>\n",
       "    <tr>\n",
       "      <th>0</th>\n",
       "      <td>3152</td>\n",
       "      <td>45</td>\n",
       "      <td>V</td>\n",
       "      <td>-32.940745</td>\n",
       "      <td>-60.759785</td>\n",
       "      <td>142 Negra</td>\n",
       "    </tr>\n",
       "    <tr>\n",
       "      <th>1</th>\n",
       "      <td>3152</td>\n",
       "      <td>45</td>\n",
       "      <td>V</td>\n",
       "      <td>-32.940745</td>\n",
       "      <td>-60.759785</td>\n",
       "      <td>142 Negra</td>\n",
       "    </tr>\n",
       "    <tr>\n",
       "      <th>2</th>\n",
       "      <td>1445</td>\n",
       "      <td>45</td>\n",
       "      <td>V</td>\n",
       "      <td>-32.940207</td>\n",
       "      <td>-60.717191</td>\n",
       "      <td>142 Negra</td>\n",
       "    </tr>\n",
       "  </tbody>\n",
       "</table>\n",
       "</div>"
      ],
      "text/plain": [
       "   ID_PARADA  RAMAL SENTIDO    LATITUD   LONGITUD LINEA_BANDERA\n",
       "0       3152     45       V -32.940745 -60.759785     142 Negra\n",
       "1       3152     45       V -32.940745 -60.759785     142 Negra\n",
       "2       1445     45       V -32.940207 -60.717191     142 Negra"
      ]
     },
     "execution_count": 35,
     "metadata": {},
     "output_type": "execute_result"
    }
   ],
   "source": [
    "# se unen el dataframe de paradas con las líneas de autobuses\n",
    "# luego se filtrarán las paradas de acuerdo a la línea\n",
    "paradas_df = paradas_df.merge(recorridos[['ID_RAMAL', 'LINEA_BANDERA']], left_on= 'RAMAL', right_on= 'ID_RAMAL' )\n",
    "del paradas_df['ID_RAMAL']\n",
    "paradas_df.head(3)"
   ]
  },
  {
   "cell_type": "code",
   "execution_count": 36,
   "metadata": {},
   "outputs": [],
   "source": [
    "# se crea una lista con todos los nombres de las líneas\n",
    "lista_lineas = recorridos['LINEA_BANDERA'].unique()\n",
    "lista_lineas.sort()"
   ]
  },
  {
   "cell_type": "code",
   "execution_count": 37,
   "metadata": {},
   "outputs": [],
   "source": [
    "# para hacer más rápida la interacción al dibujar el mapa\n",
    "# se separan las paradas de cada línea en un diccionario\n",
    "# se guarda también el promedio de la latitud y longitud\n",
    "# para mostrar el mapa centrado\n",
    "layers = {}\n",
    "for l in lista_lineas:\n",
    "    mask_ramal = paradas_df['LINEA_BANDERA'] == l\n",
    "    stage = paradas_df[mask_ramal][['LATITUD', 'LONGITUD', 'SENTIDO']]\n",
    "    lat_mean= stage['LATITUD'].mean()\n",
    "    long_mean= stage['LONGITUD'].mean()\n",
    "    layers.update({l: [stage, lat_mean, long_mean]})"
   ]
  },
  {
   "cell_type": "code",
   "execution_count": 38,
   "metadata": {},
   "outputs": [],
   "source": [
    "# leyenda para el mapa\n",
    "def add_legend(m):\n",
    "    legend_html =   '''\n",
    "                <div style=\"position: fixed; \n",
    "                            top: 50px; right: 50px; padding:5px; \n",
    "                            background-color:#E7EFE888;\n",
    "                            color:#505e62; z-index:9999; font-size:14px;\">\n",
    "                              &nbsp;<i class=\"fa fa-circle fa-lg\" style=\"color:#EE8601\"></i> Ida &nbsp; <br>\n",
    "                              &nbsp;<i class=\"fa fa-circle fa-lg\" style=\"color:#00ACEC\"></i> Vuelta &nbsp; \n",
    "                </div>\n",
    "                ''' \n",
    "         \n",
    "    m.get_root().html.add_child(folium.Element(legend_html))"
   ]
  },
  {
   "cell_type": "code",
   "execution_count": 39,
   "metadata": {},
   "outputs": [],
   "source": [
    "# se crea el mapa y se agregan los marcadores\n",
    "def f(Linea):\n",
    "    m = folium.Map(\n",
    "        location=(layers[Linea][1], layers[Linea][2]),\n",
    "        tiles='cartodbpositron',\n",
    "        zoom_start=13\n",
    "        )\n",
    "    add_legend(m)\n",
    "    stage = layers[Linea][0]\n",
    "    for i, r in stage.iterrows():\n",
    "        color_sentido= '#EE8601' if r['SENTIDO'] == 'I' else '#00ACEC'\n",
    "        folium.CircleMarker([r['LATITUD'], r['LONGITUD']], \n",
    "                            radius=5,\n",
    "                            weight=1,\n",
    "                            color=color_sentido,\n",
    "                            fill=True,\n",
    "                            fillOpacity=0.01).add_to(m)\n",
    "    display(m)"
   ]
  },
  {
   "cell_type": "code",
   "execution_count": 40,
   "metadata": {},
   "outputs": [
    {
     "data": {
      "application/javascript": [
       "// se desactiva el autoscroll\n",
       "IPython.OutputArea.prototype._should_scroll = function(lines) {\n",
       "    return false;\n",
       "}\n"
      ],
      "text/plain": [
       "<IPython.core.display.Javascript object>"
      ]
     },
     "metadata": {},
     "output_type": "display_data"
    }
   ],
   "source": [
    "%%javascript\n",
    "// se desactiva el autoscroll\n",
    "IPython.OutputArea.prototype._should_scroll = function(lines) {\n",
    "    return false;\n",
    "}"
   ]
  },
  {
   "cell_type": "code",
   "execution_count": 41,
   "metadata": {
    "scrolled": true
   },
   "outputs": [
    {
     "data": {
      "application/vnd.jupyter.widget-view+json": {
       "model_id": "ad9c711b6a3e43409b606e993c14213f",
       "version_major": 2,
       "version_minor": 0
      },
      "text/plain": [
       "interactive(children=(Dropdown(description='Linea', options=('101 Negra', '101 Roja', '102 Negra', '102 Roja',…"
      ]
     },
     "metadata": {},
     "output_type": "display_data"
    }
   ],
   "source": [
    "# se agrega un widget para mostrar\n",
    "w = interactive(f, Linea = lista_lineas)\n",
    "display(w)"
   ]
  },
  {
   "cell_type": "markdown",
   "metadata": {},
   "source": [
    "<img src='./imgs/maprender.png' />"
   ]
  },
  {
   "cell_type": "markdown",
   "metadata": {},
   "source": [
    "<i src='maprender.html'>"
   ]
  }
 ],
 "metadata": {
  "kernelspec": {
   "display_name": "Python (envbusstops)",
   "language": "python",
   "name": "envbusstops"
  },
  "language_info": {
   "codemirror_mode": {
    "name": "ipython",
    "version": 3
   },
   "file_extension": ".py",
   "mimetype": "text/x-python",
   "name": "python",
   "nbconvert_exporter": "python",
   "pygments_lexer": "ipython3",
   "version": "3.7.3"
  }
 },
 "nbformat": 4,
 "nbformat_minor": 2
}
